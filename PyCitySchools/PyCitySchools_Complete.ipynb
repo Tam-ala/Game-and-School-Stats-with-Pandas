{
 "cells": [
  {
   "cell_type": "markdown",
   "metadata": {},
   "source": [
    "#                      PYCITY SCHOOLS SNAPSHOT"
   ]
  },
  {
   "cell_type": "markdown",
   "metadata": {},
   "source": [
    "### Note\n",
    "* Instructions have been included for each segment. You do not have to follow them exactly, but they are included to help you think through the steps."
   ]
  },
  {
   "cell_type": "code",
   "execution_count": null,
   "metadata": {},
   "outputs": [],
   "source": [
    "# Dependencies and Setup\n",
    "import pandas as pd\n",
    "\n",
    "# File to Load (Remember to Change These)\n",
    "school_data_to_load = \"Resources/schools_complete.csv\"\n",
    "student_data_to_load = \"Resources/students_complete.csv\"\n",
    "\n",
    "# Read School and Student Data File and store into Pandas Data Frames\n",
    "school_data = pd.read_csv(school_data_to_load)\n",
    "student_data = pd.read_csv(student_data_to_load)\n",
    "\n",
    "# Combine the data into a single dataset\n",
    "school_data_complete = pd.merge(student_data, school_data, how=\"left\", on=[\"school_name\", \"school_name\"])"
   ]
  },
  {
   "cell_type": "code",
   "execution_count": null,
   "metadata": {},
   "outputs": [],
   "source": [
    "# Set Student ID as the index & view the table\n",
    "school_data_complete.set_index(\"Student ID\")"
   ]
  },
  {
   "cell_type": "markdown",
   "metadata": {},
   "source": [
    "# District Summary\n",
    "\n",
    "* Calculate the total number of schools\n",
    "\n",
    "* Calculate the total number of students\n",
    "\n",
    "* Calculate the total budget\n",
    "\n",
    "* Calculate the average math score \n",
    "\n",
    "* Calculate the average reading score\n",
    "\n",
    "* Calculate the overall passing rate (overall average score), i.e. (avg. math score + avg. reading score)/2\n",
    "\n",
    "* Calculate the percentage of students with a passing math score (70 or greater)\n",
    "\n",
    "* Calculate the percentage of students with a passing reading score (70 or greater)\n",
    "\n",
    "* Create a dataframe to hold the above results\n",
    "\n",
    "* Optional: give the displayed data cleaner formatting"
   ]
  },
  {
   "cell_type": "markdown",
   "metadata": {},
   "source": [
    "## Schools, Students and Budget"
   ]
  },
  {
   "cell_type": "code",
   "execution_count": null,
   "metadata": {},
   "outputs": [],
   "source": [
    "#total schools\n",
    "total_schools = len(school_data_complete[\"school_name\"].unique())\n",
    "\n",
    "# total students\n",
    "total_students = school_data_complete[\"Student ID\"].count()"
   ]
  },
  {
   "cell_type": "code",
   "execution_count": null,
   "metadata": {},
   "outputs": [],
   "source": [
    "# total budget\n",
    "total_budget = school_data[\"budget\"].sum()\n",
    "total_budget"
   ]
  },
  {
   "cell_type": "markdown",
   "metadata": {},
   "source": [
    "## Calculating Scores"
   ]
  },
  {
   "cell_type": "code",
   "execution_count": null,
   "metadata": {},
   "outputs": [],
   "source": [
    "#..............................Calculating scores....................................\n",
    "# Calculate the average math score\n",
    "total_math_score = school_data_complete[\"math_score\"].sum()\n",
    "avg_math_score = total_math_score/total_students\n",
    "\n",
    "# Calculate the average reading score\n",
    "total_read_score = school_data_complete[\"reading_score\"].sum()\n",
    "avg_read_score = total_read_score/total_students\n",
    "\n",
    "# Calculate the overall passing rate (overall average score), \n",
    "#i.e. (avg. math score + avg. reading score)/2\n",
    "overal_passing_rate = (avg_math_score + avg_read_score)/2"
   ]
  },
  {
   "cell_type": "markdown",
   "metadata": {},
   "source": [
    "## Passing Percentages"
   ]
  },
  {
   "cell_type": "code",
   "execution_count": null,
   "metadata": {},
   "outputs": [],
   "source": [
    "# ....Calculate the percentage of students with a passing math score (70 or greater)....\n",
    "# Find out how many students pass & failed\n",
    "math_scores = (school_data_complete[\"math_score\"] >= 70).value_counts()\n",
    "\n",
    "# Make df of scores, reset index of true and false, rename columns\n",
    "math_scores_df = pd.DataFrame(math_scores).reset_index()\n",
    "math_scores_rename = math_scores_df.rename(columns={\"math_score\":\"student_count\",\n",
    "                                                   \"index\":\"Passing Status: Math\"})\n",
    "\n",
    "\n",
    "# Filter for students who passed math and get the percentage\n",
    "passed_math = math_scores_rename.iloc[0,:].sum()\n",
    "percent_passed_math = passed_math*100/total_students"
   ]
  },
  {
   "cell_type": "code",
   "execution_count": null,
   "metadata": {},
   "outputs": [],
   "source": [
    "# ....Calculate the percentage of students with a passing reading score (70 or greater)....\n",
    "\n",
    "# Find out how many students pass & failed\n",
    "reading_scores = (school_data_complete[\"reading_score\"] >= 70).value_counts()\n",
    "reading_scores\n",
    "\n",
    "# Make df of scores, reset index of true and false, rename columns\n",
    "read_scores_df = pd.DataFrame(reading_scores).reset_index()\n",
    "read_scores_rename = read_scores_df.rename(columns={\"reading_score\":\"student_count\",\n",
    "                                                   \"index\":\"Passing Status: Reading\"})\n",
    "\n",
    "# Filter for students who passed reading and get the percentage\n",
    "passed_read = read_scores_rename.iloc[0,:].sum()\n",
    "percent_passed_read = passed_read*100/total_students"
   ]
  },
  {
   "cell_type": "markdown",
   "metadata": {},
   "source": [
    "## Summary"
   ]
  },
  {
   "cell_type": "code",
   "execution_count": null,
   "metadata": {},
   "outputs": [],
   "source": [
    "# Create a dataframe to hold the above results\n",
    "district_summary_df = pd.DataFrame({\"Total Schools\": [total_schools],\"Total Students\": total_students,\n",
    "                                    \"Total Budget\": [total_budget], \"Average Math Score\": avg_math_score,\n",
    "                                   \"Average Reading Score\":avg_read_score, \"Passing Math (%)\": percent_passed_math,\n",
    "                                   \"Passing Reading(%)\":percent_passed_read, \n",
    "                                   \"Overall Passing Rate(%)\":overal_passing_rate})\n",
    "district_summary_df"
   ]
  },
  {
   "cell_type": "markdown",
   "metadata": {},
   "source": [
    "## School Summary"
   ]
  },
  {
   "cell_type": "markdown",
   "metadata": {},
   "source": [
    "* Create an overview table that summarizes key metrics about each school, including:\n",
    "  * School Name\n",
    "  * School Type\n",
    "  * Total Students\n",
    "  * Total School Budget\n",
    "  * Per Student Budget\n",
    "  * Average Math Score\n",
    "  * Average Reading Score\n",
    "  * % Passing Math\n",
    "  * % Passing Reading\n",
    "  * Overall Passing Rate (Average of the above two)\n",
    "  \n",
    "* Create a dataframe to hold the above results"
   ]
  },
  {
   "cell_type": "code",
   "execution_count": null,
   "metadata": {},
   "outputs": [],
   "source": []
  },
  {
   "cell_type": "markdown",
   "metadata": {},
   "source": [
    "## Top Performing Schools (By Passing Rate)"
   ]
  },
  {
   "cell_type": "markdown",
   "metadata": {},
   "source": [
    "* Sort and display the top five schools in overall passing rate"
   ]
  },
  {
   "cell_type": "code",
   "execution_count": null,
   "metadata": {},
   "outputs": [],
   "source": []
  },
  {
   "cell_type": "markdown",
   "metadata": {},
   "source": [
    "## Bottom Performing Schools (By Passing Rate)"
   ]
  },
  {
   "cell_type": "markdown",
   "metadata": {},
   "source": [
    "* Sort and display the five worst-performing schools"
   ]
  },
  {
   "cell_type": "code",
   "execution_count": null,
   "metadata": {},
   "outputs": [],
   "source": []
  },
  {
   "cell_type": "markdown",
   "metadata": {
    "collapsed": true
   },
   "source": [
    "## Math Scores by Grade"
   ]
  },
  {
   "cell_type": "markdown",
   "metadata": {},
   "source": [
    "* Create a table that lists the average Math Score for students of each grade level (9th, 10th, 11th, 12th) at each school.\n",
    "\n",
    "  * Create a pandas series for each grade. Hint: use a conditional statement.\n",
    "  \n",
    "  * Group each series by school\n",
    "  \n",
    "  * Combine the series into a dataframe\n",
    "  \n",
    "  * Optional: give the displayed data cleaner formatting"
   ]
  },
  {
   "cell_type": "code",
   "execution_count": null,
   "metadata": {},
   "outputs": [],
   "source": [
    "# Filter scores by 9th grade\n",
    "nine = student_id.loc[student_id[\"grade\"]==\"9th\"]\n",
    "nine_math_avg = nine.groupby(\"school_name\").mean()\n",
    "nine_math_avg_rename = nine_math_avg.rename(columns={\"reading_score\":\"Grade 9 Reading Score\",\n",
    "                                                    \"math_score\":\"Grade 9 Math Score\"})\n",
    "\n",
    "# Filter scores by 10th grade\n",
    "ten = student_id.loc[student_id[\"grade\"]==\"10th\"]\n",
    "ten_math_avg = ten.groupby(\"school_name\").mean()\n",
    "ten_math_avg_rename = ten_math_avg.rename(columns={\"reading_score\":\"Grade 10 Reading Score\",\n",
    "                            \"math_score\":\"Grade 10 Math Score\"})\n",
    "\n",
    "# Filter scores by 11th grade\n",
    "eleven = student_id.loc[student_id[\"grade\"]==\"11th\"]\n",
    "eleven_math_avg = eleven.groupby(\"school_name\").mean()\n",
    "eleven_math_avg_rename = eleven_math_avg.rename(columns={\"reading_score\":\"Grade 11 Reading Score\",\n",
    "                                \"math_score\":\"Grade 11 Math Score\"})\n",
    "\n",
    "# Filter scores by 12th grade\n",
    "twelve = student_id.loc[student_id[\"grade\"]==\"12th\"]\n",
    "twelve_math_avg = twelve.groupby(\"school_name\").mean()\n",
    "twelve_math_avg_rename = twelve_math_avg.rename(columns={\"reading_score\":\"Grade 12 Reading Score\",\n",
    "                                \"math_score\":\"Grade 12 Math Score\"})"
   ]
  },
  {
   "cell_type": "code",
   "execution_count": null,
   "metadata": {},
   "outputs": [],
   "source": [
    "# Merging 9th & 10th grade\n",
    "nine_ten_avg = pd.merge(nine_math_avg_rename, ten_math_avg_rename, how=\"left\", on=[\"school_name\"])\n",
    "\n",
    "# Merging 11th & 12th grade\n",
    "eleven_twelve_avg = pd.merge(eleven_math_avg_rename, twelve_math_avg_rename, how=\"left\", on=[\"school_name\"])\n",
    "\n",
    "# Merging all grades\n",
    "school_score_avg = pd.merge(nine_ten_avg, eleven_twelve_avg, how=\"left\", on=[\"school_name\"])"
   ]
  },
  {
   "cell_type": "code",
   "execution_count": null,
   "metadata": {},
   "outputs": [],
   "source": [
    "# Filter grades to get math scores per school\n",
    "math_avg = school_score_avg[[\"Grade 9 Math Score\",\"Grade 10 Math Score\",\n",
    "                             \"Grade 11 Math Score\",\"Grade 12 Math Score\"]]\n",
    "math_avg"
   ]
  },
  {
   "cell_type": "markdown",
   "metadata": {},
   "source": [
    "## Reading Score by Grade "
   ]
  },
  {
   "cell_type": "markdown",
   "metadata": {},
   "source": [
    "* Perform the same operations as above for reading scores"
   ]
  },
  {
   "cell_type": "code",
   "execution_count": null,
   "metadata": {},
   "outputs": [],
   "source": [
    "# Filter grades to get reading scores per school\n",
    "reading_avg = school_score_avg[[\"Grade 9 Reading Score\",\"Grade 10 Reading Score\",\n",
    "                             \"Grade 11 Reading Score\",\"Grade 12 Reading Score\"]]\n",
    "reading_avg"
   ]
  },
  {
   "cell_type": "markdown",
   "metadata": {},
   "source": [
    "## Scores by School Spending"
   ]
  },
  {
   "cell_type": "markdown",
   "metadata": {},
   "source": [
    "* Create a table that breaks down school performances based on average Spending Ranges (Per Student). Use 4 reasonable bins to group school spending. Include in the table each of the following:\n",
    "  * Average Math Score\n",
    "  * Average Reading Score\n",
    "  * % Passing Math\n",
    "  * % Passing Reading\n",
    "  * Overall Passing Rate (Average of the above two)"
   ]
  },
  {
   "cell_type": "code",
   "execution_count": null,
   "metadata": {},
   "outputs": [],
   "source": [
    "# Sample bins. Feel free to create your own bins.\n",
    "spending_bins = [0, 585, 615, 645, 675]\n",
    "group_names = [\"<$585\", \"$585-615\", \"$615-645\", \"$645-675\"]"
   ]
  },
  {
   "cell_type": "code",
   "execution_count": null,
   "metadata": {},
   "outputs": [],
   "source": []
  },
  {
   "cell_type": "markdown",
   "metadata": {},
   "source": [
    "## Scores by School Size"
   ]
  },
  {
   "cell_type": "markdown",
   "metadata": {},
   "source": [
    "* Perform the same operations as above, based on school size."
   ]
  },
  {
   "cell_type": "code",
   "execution_count": null,
   "metadata": {},
   "outputs": [],
   "source": [
    "# Sample bins. Feel free to create your own bins.\n",
    "size_bins = [0, 1000, 2000, 5000]\n",
    "group_names = [\"Small (<1000)\", \"Medium (1000-2000)\", \"Large (2000-5000)\"]"
   ]
  },
  {
   "cell_type": "code",
   "execution_count": null,
   "metadata": {
    "scrolled": true
   },
   "outputs": [],
   "source": []
  },
  {
   "cell_type": "markdown",
   "metadata": {},
   "source": [
    "## Scores by School Type"
   ]
  },
  {
   "cell_type": "markdown",
   "metadata": {},
   "source": [
    "* Perform the same operations as above, based on school type."
   ]
  },
  {
   "cell_type": "code",
   "execution_count": null,
   "metadata": {},
   "outputs": [],
   "source": []
  },
  {
   "cell_type": "code",
   "execution_count": null,
   "metadata": {},
   "outputs": [],
   "source": []
  }
 ],
 "metadata": {
  "anaconda-cloud": {},
  "kernel_info": {
   "name": "python3"
  },
  "kernelspec": {
   "display_name": "Python 3",
   "language": "python",
   "name": "python3"
  },
  "language_info": {
   "codemirror_mode": {
    "name": "ipython",
    "version": 3
   },
   "file_extension": ".py",
   "mimetype": "text/x-python",
   "name": "python",
   "nbconvert_exporter": "python",
   "pygments_lexer": "ipython3",
   "version": "3.6.10"
  },
  "latex_envs": {
   "LaTeX_envs_menu_present": true,
   "autoclose": false,
   "autocomplete": true,
   "bibliofile": "biblio.bib",
   "cite_by": "apalike",
   "current_citInitial": 1,
   "eqLabelWithNumbers": true,
   "eqNumInitial": 1,
   "hotkeys": {
    "equation": "Ctrl-E",
    "itemize": "Ctrl-I"
   },
   "labels_anchors": false,
   "latex_user_defs": false,
   "report_style_numbering": false,
   "user_envs_cfg": false
  },
  "nteract": {
   "version": "0.8.4"
  }
 },
 "nbformat": 4,
 "nbformat_minor": 1
}
