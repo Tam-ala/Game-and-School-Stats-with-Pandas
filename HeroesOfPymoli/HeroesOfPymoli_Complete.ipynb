{
 "cells": [
  {
   "cell_type": "markdown",
   "metadata": {},
   "source": [
    "#                      HEROES OF PYMOLI SNAPSHOT"
   ]
  },
  {
   "cell_type": "markdown",
   "metadata": {},
   "source": [
    "## Key Trends\n",
    "\n",
    "Gender & Age:\n",
    "\n",
    "The male players outnumbered female players by a large margin (83% and 14% respectfully) and there was a small percentage who didn't disclose their gender(15%).\n",
    "\n",
    "The age range didn't exactly match the usual assumption of who usually plays video games which are teenagers. The typical age of Pymoli players were actually in their early 20s with 365 players. In addition, there are actually a small percentage of people who are over 40 years-old. This could be people who lie about their age but it would be interesting to find out if this is an age demographic to go after.\n",
    "\n",
    "Purchasing Power:\n",
    "\n",
    "576 players generated 2,379.77USD in revenue over unique items purchases. There were 179 items for sale that had an average price of 3.05USD.\n",
    "\n",
    "Since male players outweighed female players, the purchasing power correlates with the the amount of players per gender.\n",
    "\n",
    "The total purchase value among all age groups fall on early 20 year-olds. The average purchase price from people in the early 20s is slightly higher than teenagers at 3.05USD as opposed to 3.03USD.\n",
    "\n",
    "The top spender happened to be Zontibe81 who purchased 3 items that totaled at 8.03USD.\n",
    "\n",
    "The most popular item sold was the Oathbreaker. There was also a 3-way tie of Fiery Glass Crusader, Extraction, and Nirvana. And all but Extraction were also the most profitable."
   ]
  },
  {
   "cell_type": "code",
   "execution_count": 1,
   "metadata": {},
   "outputs": [
    {
     "data": {
      "text/html": [
       "<div>\n",
       "<style scoped>\n",
       "    .dataframe tbody tr th:only-of-type {\n",
       "        vertical-align: middle;\n",
       "    }\n",
       "\n",
       "    .dataframe tbody tr th {\n",
       "        vertical-align: top;\n",
       "    }\n",
       "\n",
       "    .dataframe thead th {\n",
       "        text-align: right;\n",
       "    }\n",
       "</style>\n",
       "<table border=\"1\" class=\"dataframe\">\n",
       "  <thead>\n",
       "    <tr style=\"text-align: right;\">\n",
       "      <th></th>\n",
       "      <th>Purchase ID</th>\n",
       "      <th>SN</th>\n",
       "      <th>Age</th>\n",
       "      <th>Gender</th>\n",
       "      <th>Item ID</th>\n",
       "      <th>Item Name</th>\n",
       "      <th>Price</th>\n",
       "    </tr>\n",
       "  </thead>\n",
       "  <tbody>\n",
       "    <tr>\n",
       "      <th>0</th>\n",
       "      <td>0</td>\n",
       "      <td>Lisim78</td>\n",
       "      <td>20</td>\n",
       "      <td>Male</td>\n",
       "      <td>108</td>\n",
       "      <td>Extraction, Quickblade Of Trembling Hands</td>\n",
       "      <td>3.53</td>\n",
       "    </tr>\n",
       "    <tr>\n",
       "      <th>1</th>\n",
       "      <td>1</td>\n",
       "      <td>Lisovynya38</td>\n",
       "      <td>40</td>\n",
       "      <td>Male</td>\n",
       "      <td>143</td>\n",
       "      <td>Frenzied Scimitar</td>\n",
       "      <td>1.56</td>\n",
       "    </tr>\n",
       "    <tr>\n",
       "      <th>2</th>\n",
       "      <td>2</td>\n",
       "      <td>Ithergue48</td>\n",
       "      <td>24</td>\n",
       "      <td>Male</td>\n",
       "      <td>92</td>\n",
       "      <td>Final Critic</td>\n",
       "      <td>4.88</td>\n",
       "    </tr>\n",
       "    <tr>\n",
       "      <th>3</th>\n",
       "      <td>3</td>\n",
       "      <td>Chamassasya86</td>\n",
       "      <td>24</td>\n",
       "      <td>Male</td>\n",
       "      <td>100</td>\n",
       "      <td>Blindscythe</td>\n",
       "      <td>3.27</td>\n",
       "    </tr>\n",
       "    <tr>\n",
       "      <th>4</th>\n",
       "      <td>4</td>\n",
       "      <td>Iskosia90</td>\n",
       "      <td>23</td>\n",
       "      <td>Male</td>\n",
       "      <td>131</td>\n",
       "      <td>Fury</td>\n",
       "      <td>1.44</td>\n",
       "    </tr>\n",
       "    <tr>\n",
       "      <th>...</th>\n",
       "      <td>...</td>\n",
       "      <td>...</td>\n",
       "      <td>...</td>\n",
       "      <td>...</td>\n",
       "      <td>...</td>\n",
       "      <td>...</td>\n",
       "      <td>...</td>\n",
       "    </tr>\n",
       "    <tr>\n",
       "      <th>775</th>\n",
       "      <td>775</td>\n",
       "      <td>Aethedru70</td>\n",
       "      <td>21</td>\n",
       "      <td>Female</td>\n",
       "      <td>60</td>\n",
       "      <td>Wolf</td>\n",
       "      <td>3.54</td>\n",
       "    </tr>\n",
       "    <tr>\n",
       "      <th>776</th>\n",
       "      <td>776</td>\n",
       "      <td>Iral74</td>\n",
       "      <td>21</td>\n",
       "      <td>Male</td>\n",
       "      <td>164</td>\n",
       "      <td>Exiled Doomblade</td>\n",
       "      <td>1.63</td>\n",
       "    </tr>\n",
       "    <tr>\n",
       "      <th>777</th>\n",
       "      <td>777</td>\n",
       "      <td>Yathecal72</td>\n",
       "      <td>20</td>\n",
       "      <td>Male</td>\n",
       "      <td>67</td>\n",
       "      <td>Celeste, Incarnation of the Corrupted</td>\n",
       "      <td>3.46</td>\n",
       "    </tr>\n",
       "    <tr>\n",
       "      <th>778</th>\n",
       "      <td>778</td>\n",
       "      <td>Sisur91</td>\n",
       "      <td>7</td>\n",
       "      <td>Male</td>\n",
       "      <td>101</td>\n",
       "      <td>Final Critic</td>\n",
       "      <td>4.19</td>\n",
       "    </tr>\n",
       "    <tr>\n",
       "      <th>779</th>\n",
       "      <td>779</td>\n",
       "      <td>Ennrian78</td>\n",
       "      <td>24</td>\n",
       "      <td>Male</td>\n",
       "      <td>50</td>\n",
       "      <td>Dawn</td>\n",
       "      <td>4.60</td>\n",
       "    </tr>\n",
       "  </tbody>\n",
       "</table>\n",
       "<p>780 rows × 7 columns</p>\n",
       "</div>"
      ],
      "text/plain": [
       "     Purchase ID             SN  Age  Gender  Item ID  \\\n",
       "0              0        Lisim78   20    Male      108   \n",
       "1              1    Lisovynya38   40    Male      143   \n",
       "2              2     Ithergue48   24    Male       92   \n",
       "3              3  Chamassasya86   24    Male      100   \n",
       "4              4      Iskosia90   23    Male      131   \n",
       "..           ...            ...  ...     ...      ...   \n",
       "775          775     Aethedru70   21  Female       60   \n",
       "776          776         Iral74   21    Male      164   \n",
       "777          777     Yathecal72   20    Male       67   \n",
       "778          778        Sisur91    7    Male      101   \n",
       "779          779      Ennrian78   24    Male       50   \n",
       "\n",
       "                                     Item Name  Price  \n",
       "0    Extraction, Quickblade Of Trembling Hands   3.53  \n",
       "1                            Frenzied Scimitar   1.56  \n",
       "2                                 Final Critic   4.88  \n",
       "3                                  Blindscythe   3.27  \n",
       "4                                         Fury   1.44  \n",
       "..                                         ...    ...  \n",
       "775                                       Wolf   3.54  \n",
       "776                           Exiled Doomblade   1.63  \n",
       "777      Celeste, Incarnation of the Corrupted   3.46  \n",
       "778                               Final Critic   4.19  \n",
       "779                                       Dawn   4.60  \n",
       "\n",
       "[780 rows x 7 columns]"
      ]
     },
     "execution_count": 1,
     "metadata": {},
     "output_type": "execute_result"
    }
   ],
   "source": [
    "# Dependencies and Setup\n",
    "import pandas as pd\n",
    "\n",
    "# File to Load (Remember to Change These)\n",
    "file_to_load = \"Resources/purchase_data.csv\"\n",
    "\n",
    "# Read Purchasing File and store into Pandas data frame\n",
    "purchase_df = pd.read_csv(file_to_load)\n",
    "purchase_df"
   ]
  },
  {
   "cell_type": "markdown",
   "metadata": {},
   "source": [
    "## Player Count"
   ]
  },
  {
   "cell_type": "markdown",
   "metadata": {},
   "source": [
    "* Display the total number of players\n"
   ]
  },
  {
   "cell_type": "code",
   "execution_count": 2,
   "metadata": {
    "scrolled": true
   },
   "outputs": [
    {
     "data": {
      "text/html": [
       "<div>\n",
       "<style scoped>\n",
       "    .dataframe tbody tr th:only-of-type {\n",
       "        vertical-align: middle;\n",
       "    }\n",
       "\n",
       "    .dataframe tbody tr th {\n",
       "        vertical-align: top;\n",
       "    }\n",
       "\n",
       "    .dataframe thead th {\n",
       "        text-align: right;\n",
       "    }\n",
       "</style>\n",
       "<table border=\"1\" class=\"dataframe\">\n",
       "  <thead>\n",
       "    <tr style=\"text-align: right;\">\n",
       "      <th></th>\n",
       "      <th></th>\n",
       "      <th>Total Players</th>\n",
       "    </tr>\n",
       "  </thead>\n",
       "  <tbody>\n",
       "    <tr>\n",
       "      <th>0</th>\n",
       "      <td>0</td>\n",
       "      <td>576</td>\n",
       "    </tr>\n",
       "  </tbody>\n",
       "</table>\n",
       "</div>"
      ],
      "text/plain": [
       "      Total Players\n",
       "0  0            576"
      ]
     },
     "execution_count": 2,
     "metadata": {},
     "output_type": "execute_result"
    }
   ],
   "source": [
    "# Total number of Players and display series\n",
    "player_ct = len(purchase_df[\"SN\"].value_counts())\n",
    "player_ct = pd.Series(player_ct).reset_index()\n",
    "player_ct.columns = ['', 'Total Players']\n",
    "player_ct"
   ]
  },
  {
   "cell_type": "markdown",
   "metadata": {},
   "source": [
    "## Purchasing Analysis (Total)"
   ]
  },
  {
   "cell_type": "markdown",
   "metadata": {},
   "source": [
    "* Run basic calculations to obtain number of unique items, average price, etc.\n",
    "\n",
    "\n",
    "* Create a summary data frame to hold the results\n",
    "\n",
    "\n",
    "* Optional: give the displayed data cleaner formatting\n",
    "\n",
    "\n",
    "* Display the summary data frame\n"
   ]
  },
  {
   "cell_type": "code",
   "execution_count": 4,
   "metadata": {},
   "outputs": [
    {
     "data": {
      "text/html": [
       "<style  type=\"text/css\" >\n",
       "</style><table id=\"T_e1f4604c_f39c_11ea_a652_105bad631845\" ><thead>    <tr>        <th class=\"blank level0\" ></th>        <th class=\"col_heading level0 col0\" >Number of Unique Items</th>        <th class=\"col_heading level0 col1\" >Average Price</th>        <th class=\"col_heading level0 col2\" >Number of Purchases</th>        <th class=\"col_heading level0 col3\" >Total Revenue</th>    </tr></thead><tbody>\n",
       "                <tr>\n",
       "                        <th id=\"T_e1f4604c_f39c_11ea_a652_105bad631845level0_row0\" class=\"row_heading level0 row0\" >0</th>\n",
       "                        <td id=\"T_e1f4604c_f39c_11ea_a652_105bad631845row0_col0\" class=\"data row0 col0\" >179</td>\n",
       "                        <td id=\"T_e1f4604c_f39c_11ea_a652_105bad631845row0_col1\" class=\"data row0 col1\" >$3.05</td>\n",
       "                        <td id=\"T_e1f4604c_f39c_11ea_a652_105bad631845row0_col2\" class=\"data row0 col2\" >780</td>\n",
       "                        <td id=\"T_e1f4604c_f39c_11ea_a652_105bad631845row0_col3\" class=\"data row0 col3\" >$2,379.77</td>\n",
       "            </tr>\n",
       "    </tbody></table>"
      ],
      "text/plain": [
       "<pandas.io.formats.style.Styler at 0x1734c077550>"
      ]
     },
     "execution_count": 4,
     "metadata": {},
     "output_type": "execute_result"
    }
   ],
   "source": [
    "# Find the total of Unique Items bought.\n",
    "uniq_items_tots = len(purchase_df[\"Item Name\"].unique())\n",
    "\n",
    "# Find the average price of purchases, total revenue of purchases, total number of purchases\n",
    "avg_price = purchase_df[\"Price\"].mean()\n",
    "revenue_total = purchase_df[\"Price\"].sum()\n",
    "total_purchases = purchase_df[\"Item ID\"].count()\n",
    "\n",
    "# Make summary df of purchase analysis findings\n",
    "total_puranalysis_df = pd.DataFrame({\"Number of Unique Items\": [uniq_items_tots], \n",
    "                              \"Average Price\": avg_price, \n",
    "                              \"Number of Purchases\": total_purchases,\n",
    "                              \"Total Revenue\": revenue_total})\n",
    "# format df\n",
    "total_puranalysis_df.style.format({\"Average Price\":\"${:0,.2f}\",\"Total Revenue\":\"${:0,.2f}\"})"
   ]
  },
  {
   "cell_type": "markdown",
   "metadata": {},
   "source": [
    "## Gender Demographics"
   ]
  },
  {
   "cell_type": "markdown",
   "metadata": {},
   "source": [
    "* Percentage and Count of Male Players\n",
    "\n",
    "\n",
    "* Percentage and Count of Female Players\n",
    "\n",
    "\n",
    "* Percentage and Count of Other / Non-Disclosed\n",
    "\n",
    "\n"
   ]
  },
  {
   "cell_type": "code",
   "execution_count": 5,
   "metadata": {},
   "outputs": [
    {
     "data": {
      "text/html": [
       "<style  type=\"text/css\" >\n",
       "</style><table id=\"T_30bc0e68_f39d_11ea_9a74_105bad631845\" ><thead>    <tr>        <th class=\"blank level0\" ></th>        <th class=\"col_heading level0 col0\" >Total Players by Gender</th>        <th class=\"col_heading level0 col1\" >Gender Percentage</th>    </tr>    <tr>        <th class=\"index_name level0\" >Gender</th>        <th class=\"blank\" ></th>        <th class=\"blank\" ></th>    </tr></thead><tbody>\n",
       "                <tr>\n",
       "                        <th id=\"T_30bc0e68_f39d_11ea_9a74_105bad631845level0_row0\" class=\"row_heading level0 row0\" >Female</th>\n",
       "                        <td id=\"T_30bc0e68_f39d_11ea_9a74_105bad631845row0_col0\" class=\"data row0 col0\" >113</td>\n",
       "                        <td id=\"T_30bc0e68_f39d_11ea_9a74_105bad631845row0_col1\" class=\"data row0 col1\" >14.49%</td>\n",
       "            </tr>\n",
       "            <tr>\n",
       "                        <th id=\"T_30bc0e68_f39d_11ea_9a74_105bad631845level0_row1\" class=\"row_heading level0 row1\" >Male</th>\n",
       "                        <td id=\"T_30bc0e68_f39d_11ea_9a74_105bad631845row1_col0\" class=\"data row1 col0\" >652</td>\n",
       "                        <td id=\"T_30bc0e68_f39d_11ea_9a74_105bad631845row1_col1\" class=\"data row1 col1\" >83.59%</td>\n",
       "            </tr>\n",
       "            <tr>\n",
       "                        <th id=\"T_30bc0e68_f39d_11ea_9a74_105bad631845level0_row2\" class=\"row_heading level0 row2\" >Other / Non-Disclosed</th>\n",
       "                        <td id=\"T_30bc0e68_f39d_11ea_9a74_105bad631845row2_col0\" class=\"data row2 col0\" >15</td>\n",
       "                        <td id=\"T_30bc0e68_f39d_11ea_9a74_105bad631845row2_col1\" class=\"data row2 col1\" >1.92%</td>\n",
       "            </tr>\n",
       "    </tbody></table>"
      ],
      "text/plain": [
       "<pandas.io.formats.style.Styler at 0x1734cd82c18>"
      ]
     },
     "execution_count": 5,
     "metadata": {},
     "output_type": "execute_result"
    }
   ],
   "source": [
    "# Find total count of players by gender & percentage\n",
    "gender_count = purchase_df.groupby('Gender')[\"SN\"].count()\n",
    "gender_percentage = gender_count*100/gender_count.sum()\n",
    "\n",
    "# Add column for percentage of each group into a dataframe\n",
    "gender_df = pd.DataFrame(gender_percentage)\n",
    "rename_gp = gender_df.rename(columns={\"SN\":\"Gender Percentage\"})\n",
    "\n",
    "# Add total gender count to the dataframe\n",
    "rename_gp[\"Total Players by Gender\"] = gender_count\n",
    "\n",
    "# Reorganize and format columns\n",
    "reorg_df = rename_gp[[\"Total Players by Gender\",\"Gender Percentage\"]]\n",
    "reorg_df.style.format({\"Gender Percentage\":\"{:0,.2f}%\"})"
   ]
  },
  {
   "cell_type": "markdown",
   "metadata": {},
   "source": [
    "\n",
    "## Purchasing Analysis (Gender)"
   ]
  },
  {
   "cell_type": "markdown",
   "metadata": {},
   "source": [
    "* Run basic calculations to obtain purchase count, avg. purchase price, avg. purchase total per person etc. by gender\n",
    "\n",
    "\n",
    "* Create a summary data frame to hold the results\n",
    "\n",
    "\n",
    "* Optional: give the displayed data cleaner formatting\n",
    "\n",
    "\n",
    "* Display the summary data frame"
   ]
  },
  {
   "cell_type": "code",
   "execution_count": 6,
   "metadata": {},
   "outputs": [
    {
     "data": {
      "text/html": [
       "<style  type=\"text/css\" >\n",
       "</style><table id=\"T_66309ad2_f39d_11ea_be02_105bad631845\" ><thead>    <tr>        <th class=\"blank level0\" ></th>        <th class=\"col_heading level0 col0\" >Purchase Count by Gender</th>        <th class=\"col_heading level0 col1\" >Average Purchase Price</th>        <th class=\"col_heading level0 col2\" >Average Purchase Total per Person</th>    </tr>    <tr>        <th class=\"index_name level0\" >Gender</th>        <th class=\"blank\" ></th>        <th class=\"blank\" ></th>        <th class=\"blank\" ></th>    </tr></thead><tbody>\n",
       "                <tr>\n",
       "                        <th id=\"T_66309ad2_f39d_11ea_be02_105bad631845level0_row0\" class=\"row_heading level0 row0\" >Female</th>\n",
       "                        <td id=\"T_66309ad2_f39d_11ea_be02_105bad631845row0_col0\" class=\"data row0 col0\" >113</td>\n",
       "                        <td id=\"T_66309ad2_f39d_11ea_be02_105bad631845row0_col1\" class=\"data row0 col1\" >$3.20</td>\n",
       "                        <td id=\"T_66309ad2_f39d_11ea_be02_105bad631845row0_col2\" class=\"data row0 col2\" >$361.94</td>\n",
       "            </tr>\n",
       "            <tr>\n",
       "                        <th id=\"T_66309ad2_f39d_11ea_be02_105bad631845level0_row1\" class=\"row_heading level0 row1\" >Male</th>\n",
       "                        <td id=\"T_66309ad2_f39d_11ea_be02_105bad631845row1_col0\" class=\"data row1 col0\" >652</td>\n",
       "                        <td id=\"T_66309ad2_f39d_11ea_be02_105bad631845row1_col1\" class=\"data row1 col1\" >$3.02</td>\n",
       "                        <td id=\"T_66309ad2_f39d_11ea_be02_105bad631845row1_col2\" class=\"data row1 col2\" >$1,967.64</td>\n",
       "            </tr>\n",
       "            <tr>\n",
       "                        <th id=\"T_66309ad2_f39d_11ea_be02_105bad631845level0_row2\" class=\"row_heading level0 row2\" >Other / Non-Disclosed</th>\n",
       "                        <td id=\"T_66309ad2_f39d_11ea_be02_105bad631845row2_col0\" class=\"data row2 col0\" >15</td>\n",
       "                        <td id=\"T_66309ad2_f39d_11ea_be02_105bad631845row2_col1\" class=\"data row2 col1\" >$3.35</td>\n",
       "                        <td id=\"T_66309ad2_f39d_11ea_be02_105bad631845row2_col2\" class=\"data row2 col2\" >$50.19</td>\n",
       "            </tr>\n",
       "    </tbody></table>"
      ],
      "text/plain": [
       "<pandas.io.formats.style.Styler at 0x1734cda7c88>"
      ]
     },
     "execution_count": 6,
     "metadata": {},
     "output_type": "execute_result"
    }
   ],
   "source": [
    "# Groupby gender\n",
    "gender_group = purchase_df.groupby(['Gender'])\n",
    "\n",
    "# Calculate purchase count, average purchase price, purchase total per person\n",
    "gpurch_count = gender_group[\"Item ID\"].count()\n",
    "gavg_price = gender_group[\"Price\"].mean()\n",
    "total_purch = gender_group['Price'].sum()\n",
    "\n",
    "# Make dataframe summary of purchases by gender\n",
    "gender_puranalysis_df = pd.DataFrame({\"Purchase Count by Gender\": gpurch_count, \n",
    "                              \"Average Purchase Price\": gavg_price, \n",
    "                              \"Average Purchase Total per Person\": total_purch})\n",
    "gender_puranalysis_df.style.format({\"Average Purchase Price\":\"${:0,.2f}\", \n",
    "                                    \"Average Purchase Total per Person\":\"${:0,.2f}\"})"
   ]
  },
  {
   "cell_type": "markdown",
   "metadata": {},
   "source": [
    "## Age Demographics"
   ]
  },
  {
   "cell_type": "markdown",
   "metadata": {},
   "source": [
    "* Establish bins for ages\n",
    "\n",
    "\n",
    "* Categorize the existing players using the age bins. Hint: use pd.cut()\n",
    "\n",
    "\n",
    "* Calculate the numbers and percentages by age group\n",
    "\n",
    "\n",
    "* Create a summary data frame to hold the results\n",
    "\n",
    "\n",
    "* Optional: round the percentage column to two decimal points\n",
    "\n",
    "\n",
    "* Display Age Demographics Table\n"
   ]
  },
  {
   "cell_type": "code",
   "execution_count": 7,
   "metadata": {},
   "outputs": [
    {
     "data": {
      "text/html": [
       "<style  type=\"text/css\" >\n",
       "</style><table id=\"T_8cdb3276_f39d_11ea_bfd6_105bad631845\" ><thead>    <tr>        <th class=\"blank level0\" ></th>        <th class=\"col_heading level0 col0\" >Total Count by Age</th>        <th class=\"col_heading level0 col1\" >Age Percentage</th>    </tr>    <tr>        <th class=\"index_name level0\" >Age Range</th>        <th class=\"blank\" ></th>        <th class=\"blank\" ></th>    </tr></thead><tbody>\n",
       "                <tr>\n",
       "                        <th id=\"T_8cdb3276_f39d_11ea_bfd6_105bad631845level0_row0\" class=\"row_heading level0 row0\" ><10</th>\n",
       "                        <td id=\"T_8cdb3276_f39d_11ea_bfd6_105bad631845row0_col0\" class=\"data row0 col0\" >32</td>\n",
       "                        <td id=\"T_8cdb3276_f39d_11ea_bfd6_105bad631845row0_col1\" class=\"data row0 col1\" >4.10%</td>\n",
       "            </tr>\n",
       "            <tr>\n",
       "                        <th id=\"T_8cdb3276_f39d_11ea_bfd6_105bad631845level0_row1\" class=\"row_heading level0 row1\" >10-14</th>\n",
       "                        <td id=\"T_8cdb3276_f39d_11ea_bfd6_105bad631845row1_col0\" class=\"data row1 col0\" >19</td>\n",
       "                        <td id=\"T_8cdb3276_f39d_11ea_bfd6_105bad631845row1_col1\" class=\"data row1 col1\" >2.44%</td>\n",
       "            </tr>\n",
       "            <tr>\n",
       "                        <th id=\"T_8cdb3276_f39d_11ea_bfd6_105bad631845level0_row2\" class=\"row_heading level0 row2\" >15-19</th>\n",
       "                        <td id=\"T_8cdb3276_f39d_11ea_bfd6_105bad631845row2_col0\" class=\"data row2 col0\" >136</td>\n",
       "                        <td id=\"T_8cdb3276_f39d_11ea_bfd6_105bad631845row2_col1\" class=\"data row2 col1\" >17.44%</td>\n",
       "            </tr>\n",
       "            <tr>\n",
       "                        <th id=\"T_8cdb3276_f39d_11ea_bfd6_105bad631845level0_row3\" class=\"row_heading level0 row3\" >20-24</th>\n",
       "                        <td id=\"T_8cdb3276_f39d_11ea_bfd6_105bad631845row3_col0\" class=\"data row3 col0\" >365</td>\n",
       "                        <td id=\"T_8cdb3276_f39d_11ea_bfd6_105bad631845row3_col1\" class=\"data row3 col1\" >46.79%</td>\n",
       "            </tr>\n",
       "            <tr>\n",
       "                        <th id=\"T_8cdb3276_f39d_11ea_bfd6_105bad631845level0_row4\" class=\"row_heading level0 row4\" >25-29</th>\n",
       "                        <td id=\"T_8cdb3276_f39d_11ea_bfd6_105bad631845row4_col0\" class=\"data row4 col0\" >101</td>\n",
       "                        <td id=\"T_8cdb3276_f39d_11ea_bfd6_105bad631845row4_col1\" class=\"data row4 col1\" >12.95%</td>\n",
       "            </tr>\n",
       "            <tr>\n",
       "                        <th id=\"T_8cdb3276_f39d_11ea_bfd6_105bad631845level0_row5\" class=\"row_heading level0 row5\" >30-34</th>\n",
       "                        <td id=\"T_8cdb3276_f39d_11ea_bfd6_105bad631845row5_col0\" class=\"data row5 col0\" >73</td>\n",
       "                        <td id=\"T_8cdb3276_f39d_11ea_bfd6_105bad631845row5_col1\" class=\"data row5 col1\" >9.36%</td>\n",
       "            </tr>\n",
       "            <tr>\n",
       "                        <th id=\"T_8cdb3276_f39d_11ea_bfd6_105bad631845level0_row6\" class=\"row_heading level0 row6\" >35-39</th>\n",
       "                        <td id=\"T_8cdb3276_f39d_11ea_bfd6_105bad631845row6_col0\" class=\"data row6 col0\" >41</td>\n",
       "                        <td id=\"T_8cdb3276_f39d_11ea_bfd6_105bad631845row6_col1\" class=\"data row6 col1\" >5.26%</td>\n",
       "            </tr>\n",
       "            <tr>\n",
       "                        <th id=\"T_8cdb3276_f39d_11ea_bfd6_105bad631845level0_row7\" class=\"row_heading level0 row7\" >40+</th>\n",
       "                        <td id=\"T_8cdb3276_f39d_11ea_bfd6_105bad631845row7_col0\" class=\"data row7 col0\" >13</td>\n",
       "                        <td id=\"T_8cdb3276_f39d_11ea_bfd6_105bad631845row7_col1\" class=\"data row7 col1\" >1.67%</td>\n",
       "            </tr>\n",
       "    </tbody></table>"
      ],
      "text/plain": [
       "<pandas.io.formats.style.Styler at 0x1734ce47358>"
      ]
     },
     "execution_count": 7,
     "metadata": {},
     "output_type": "execute_result"
    }
   ],
   "source": [
    "# Make a bin and label for age\n",
    "age_bins = [0, 10, 14, 19, 24, 29, 34, 39, 45]\n",
    "age_rng_labels = [\"<10\", \"10-14\", \"15-19\", \"20-24\", \"25-29\", \"30-34\", \"35-39\", \"40+\"]\n",
    "\n",
    "# Slice data to place it into bins\n",
    "purchase_df['Age Range'] = pd.cut(purchase_df[\"Age\"], age_bins, labels=age_rng_labels)\n",
    "purchase_df\n",
    "\n",
    "# Group by age range\n",
    "age_group = purchase_df.groupby(\"Age Range\")\n",
    "\n",
    "# Count players set it in a dataframe\n",
    "age_count = age_group[\"SN\"].count()\n",
    "age_df = pd.DataFrame(age_count)\n",
    "\n",
    "# Rename column to total count by age & get the summ of the column\n",
    "age_rename = age_df.rename(columns={\"SN\":\"Total Count by Age\"})\n",
    "total_age = age_rename[\"Total Count by Age\"].sum()\n",
    "\n",
    "# Calculate percentage and format it\n",
    "age_rename['Age Percentage']= age_rename['Total Count by Age']*100/total_age\n",
    "age_rename.style.format({\"Age Percentage\":\"{:0,.2f}%\"})"
   ]
  },
  {
   "cell_type": "markdown",
   "metadata": {},
   "source": [
    "## Purchasing Analysis (Age)"
   ]
  },
  {
   "cell_type": "markdown",
   "metadata": {},
   "source": [
    "* Bin the purchase_data data frame by age\n",
    "\n",
    "\n",
    "* Run basic calculations to obtain purchase count, avg. purchase price, avg. purchase total per person etc. in the table below\n",
    "\n",
    "\n",
    "* Create a summary data frame to hold the results\n",
    "\n",
    "\n",
    "* Optional: give the displayed data cleaner formatting\n",
    "\n",
    "\n",
    "* Display the summary data frame"
   ]
  },
  {
   "cell_type": "code",
   "execution_count": 8,
   "metadata": {},
   "outputs": [
    {
     "data": {
      "text/html": [
       "<style  type=\"text/css\" >\n",
       "</style><table id=\"T_b70c795a_f39d_11ea_a125_105bad631845\" ><thead>    <tr>        <th class=\"blank level0\" ></th>        <th class=\"col_heading level0 col0\" >Purchase Count</th>        <th class=\"col_heading level0 col1\" >Average Purchase Price</th>        <th class=\"col_heading level0 col2\" >Total Purchage Value</th>    </tr>    <tr>        <th class=\"index_name level0\" >Age Range</th>        <th class=\"blank\" ></th>        <th class=\"blank\" ></th>        <th class=\"blank\" ></th>    </tr></thead><tbody>\n",
       "                <tr>\n",
       "                        <th id=\"T_b70c795a_f39d_11ea_a125_105bad631845level0_row0\" class=\"row_heading level0 row0\" ><10</th>\n",
       "                        <td id=\"T_b70c795a_f39d_11ea_a125_105bad631845row0_col0\" class=\"data row0 col0\" >32</td>\n",
       "                        <td id=\"T_b70c795a_f39d_11ea_a125_105bad631845row0_col1\" class=\"data row0 col1\" >$3.40</td>\n",
       "                        <td id=\"T_b70c795a_f39d_11ea_a125_105bad631845row0_col2\" class=\"data row0 col2\" >$108.96</td>\n",
       "            </tr>\n",
       "            <tr>\n",
       "                        <th id=\"T_b70c795a_f39d_11ea_a125_105bad631845level0_row1\" class=\"row_heading level0 row1\" >10-14</th>\n",
       "                        <td id=\"T_b70c795a_f39d_11ea_a125_105bad631845row1_col0\" class=\"data row1 col0\" >19</td>\n",
       "                        <td id=\"T_b70c795a_f39d_11ea_a125_105bad631845row1_col1\" class=\"data row1 col1\" >$2.68</td>\n",
       "                        <td id=\"T_b70c795a_f39d_11ea_a125_105bad631845row1_col2\" class=\"data row1 col2\" >$50.95</td>\n",
       "            </tr>\n",
       "            <tr>\n",
       "                        <th id=\"T_b70c795a_f39d_11ea_a125_105bad631845level0_row2\" class=\"row_heading level0 row2\" >15-19</th>\n",
       "                        <td id=\"T_b70c795a_f39d_11ea_a125_105bad631845row2_col0\" class=\"data row2 col0\" >136</td>\n",
       "                        <td id=\"T_b70c795a_f39d_11ea_a125_105bad631845row2_col1\" class=\"data row2 col1\" >$3.04</td>\n",
       "                        <td id=\"T_b70c795a_f39d_11ea_a125_105bad631845row2_col2\" class=\"data row2 col2\" >$412.89</td>\n",
       "            </tr>\n",
       "            <tr>\n",
       "                        <th id=\"T_b70c795a_f39d_11ea_a125_105bad631845level0_row3\" class=\"row_heading level0 row3\" >20-24</th>\n",
       "                        <td id=\"T_b70c795a_f39d_11ea_a125_105bad631845row3_col0\" class=\"data row3 col0\" >365</td>\n",
       "                        <td id=\"T_b70c795a_f39d_11ea_a125_105bad631845row3_col1\" class=\"data row3 col1\" >$3.05</td>\n",
       "                        <td id=\"T_b70c795a_f39d_11ea_a125_105bad631845row3_col2\" class=\"data row3 col2\" >$1,114.06</td>\n",
       "            </tr>\n",
       "            <tr>\n",
       "                        <th id=\"T_b70c795a_f39d_11ea_a125_105bad631845level0_row4\" class=\"row_heading level0 row4\" >25-29</th>\n",
       "                        <td id=\"T_b70c795a_f39d_11ea_a125_105bad631845row4_col0\" class=\"data row4 col0\" >101</td>\n",
       "                        <td id=\"T_b70c795a_f39d_11ea_a125_105bad631845row4_col1\" class=\"data row4 col1\" >$2.90</td>\n",
       "                        <td id=\"T_b70c795a_f39d_11ea_a125_105bad631845row4_col2\" class=\"data row4 col2\" >$293.00</td>\n",
       "            </tr>\n",
       "            <tr>\n",
       "                        <th id=\"T_b70c795a_f39d_11ea_a125_105bad631845level0_row5\" class=\"row_heading level0 row5\" >30-34</th>\n",
       "                        <td id=\"T_b70c795a_f39d_11ea_a125_105bad631845row5_col0\" class=\"data row5 col0\" >73</td>\n",
       "                        <td id=\"T_b70c795a_f39d_11ea_a125_105bad631845row5_col1\" class=\"data row5 col1\" >$2.93</td>\n",
       "                        <td id=\"T_b70c795a_f39d_11ea_a125_105bad631845row5_col2\" class=\"data row5 col2\" >$214.00</td>\n",
       "            </tr>\n",
       "            <tr>\n",
       "                        <th id=\"T_b70c795a_f39d_11ea_a125_105bad631845level0_row6\" class=\"row_heading level0 row6\" >35-39</th>\n",
       "                        <td id=\"T_b70c795a_f39d_11ea_a125_105bad631845row6_col0\" class=\"data row6 col0\" >41</td>\n",
       "                        <td id=\"T_b70c795a_f39d_11ea_a125_105bad631845row6_col1\" class=\"data row6 col1\" >$3.60</td>\n",
       "                        <td id=\"T_b70c795a_f39d_11ea_a125_105bad631845row6_col2\" class=\"data row6 col2\" >$147.67</td>\n",
       "            </tr>\n",
       "            <tr>\n",
       "                        <th id=\"T_b70c795a_f39d_11ea_a125_105bad631845level0_row7\" class=\"row_heading level0 row7\" >40+</th>\n",
       "                        <td id=\"T_b70c795a_f39d_11ea_a125_105bad631845row7_col0\" class=\"data row7 col0\" >13</td>\n",
       "                        <td id=\"T_b70c795a_f39d_11ea_a125_105bad631845row7_col1\" class=\"data row7 col1\" >$2.94</td>\n",
       "                        <td id=\"T_b70c795a_f39d_11ea_a125_105bad631845row7_col2\" class=\"data row7 col2\" >$38.24</td>\n",
       "            </tr>\n",
       "    </tbody></table>"
      ],
      "text/plain": [
       "<pandas.io.formats.style.Styler at 0x17349f0ce48>"
      ]
     },
     "execution_count": 8,
     "metadata": {},
     "output_type": "execute_result"
    }
   ],
   "source": [
    "# Make a bin and label for age\n",
    "age_bins = [0, 10, 14, 19, 24, 29, 34, 39, 45]\n",
    "age_rng_labels = [\"<10\", \"10-14\", \"15-19\", \"20-24\", \"25-29\", \"30-34\", \"35-39\", \"40+\"]\n",
    "\n",
    "# Slice data to place it into bins\n",
    "purchase_df['Age Range'] = pd.cut(purchase_df[\"Age\"], age_bins, labels=age_rng_labels)\n",
    "purchase_df\n",
    "\n",
    "# Group by age range\n",
    "age_group = purchase_df.groupby(\"Age Range\")\n",
    "\n",
    "# Calculate purchase count, average purchase price, purchage total by age\n",
    "age_count = age_group[\"Item ID\"].count()\n",
    "age_price = age_group[\"Price\"].mean()\n",
    "age_total = age_group['Price'].sum()\n",
    "\n",
    "# Make dataframe summary of purchases by gender & reset index\n",
    "age_puranalysis_df = pd.DataFrame({\"Purchase Count\": age_count, \n",
    "                              \"Average Purchase Price\": age_price, \n",
    "                              \"Total Purchage Value\": age_total})\n",
    "age_puranalysis_df.style.format({\"Average Purchase Price\":\"${:0,.2f}\", \"Total Purchage Value\":\"${:0,.2f}\"})"
   ]
  },
  {
   "cell_type": "markdown",
   "metadata": {},
   "source": [
    "## Top Spenders"
   ]
  },
  {
   "cell_type": "markdown",
   "metadata": {},
   "source": [
    "* Run basic calculations to obtain the results in the table below\n",
    "\n",
    "\n",
    "* Create a summary data frame to hold the results\n",
    "\n",
    "\n",
    "* Sort the total purchase value column in descending order\n",
    "\n",
    "\n",
    "* Optional: give the displayed data cleaner formatting\n",
    "\n",
    "\n",
    "* Display a preview of the summary data frame\n",
    "\n"
   ]
  },
  {
   "cell_type": "code",
   "execution_count": 9,
   "metadata": {},
   "outputs": [
    {
     "data": {
      "text/html": [
       "<style  type=\"text/css\" >\n",
       "</style><table id=\"T_e01a64b6_f39d_11ea_9d93_105bad631845\" ><thead>    <tr>        <th class=\"blank level0\" ></th>        <th class=\"col_heading level0 col0\" >Purchase Count</th>        <th class=\"col_heading level0 col1\" >Average Purchase Price</th>        <th class=\"col_heading level0 col2\" >Total Purchage Value</th>    </tr>    <tr>        <th class=\"index_name level0\" >SN</th>        <th class=\"blank\" ></th>        <th class=\"blank\" ></th>        <th class=\"blank\" ></th>    </tr></thead><tbody>\n",
       "                <tr>\n",
       "                        <th id=\"T_e01a64b6_f39d_11ea_9d93_105bad631845level0_row0\" class=\"row_heading level0 row0\" >Zontibe81</th>\n",
       "                        <td id=\"T_e01a64b6_f39d_11ea_9d93_105bad631845row0_col0\" class=\"data row0 col0\" >3</td>\n",
       "                        <td id=\"T_e01a64b6_f39d_11ea_9d93_105bad631845row0_col1\" class=\"data row0 col1\" >$2.68</td>\n",
       "                        <td id=\"T_e01a64b6_f39d_11ea_9d93_105bad631845row0_col2\" class=\"data row0 col2\" >$8.03</td>\n",
       "            </tr>\n",
       "            <tr>\n",
       "                        <th id=\"T_e01a64b6_f39d_11ea_9d93_105bad631845level0_row1\" class=\"row_heading level0 row1\" >Zhisrisu83</th>\n",
       "                        <td id=\"T_e01a64b6_f39d_11ea_9d93_105bad631845row1_col0\" class=\"data row1 col0\" >2</td>\n",
       "                        <td id=\"T_e01a64b6_f39d_11ea_9d93_105bad631845row1_col1\" class=\"data row1 col1\" >$3.94</td>\n",
       "                        <td id=\"T_e01a64b6_f39d_11ea_9d93_105bad631845row1_col2\" class=\"data row1 col2\" >$7.89</td>\n",
       "            </tr>\n",
       "            <tr>\n",
       "                        <th id=\"T_e01a64b6_f39d_11ea_9d93_105bad631845level0_row2\" class=\"row_heading level0 row2\" >Yoishirrala98</th>\n",
       "                        <td id=\"T_e01a64b6_f39d_11ea_9d93_105bad631845row2_col0\" class=\"data row2 col0\" >1</td>\n",
       "                        <td id=\"T_e01a64b6_f39d_11ea_9d93_105bad631845row2_col1\" class=\"data row2 col1\" >$4.58</td>\n",
       "                        <td id=\"T_e01a64b6_f39d_11ea_9d93_105bad631845row2_col2\" class=\"data row2 col2\" >$4.58</td>\n",
       "            </tr>\n",
       "            <tr>\n",
       "                        <th id=\"T_e01a64b6_f39d_11ea_9d93_105bad631845level0_row3\" class=\"row_heading level0 row3\" >Yathedeu43</th>\n",
       "                        <td id=\"T_e01a64b6_f39d_11ea_9d93_105bad631845row3_col0\" class=\"data row3 col0\" >2</td>\n",
       "                        <td id=\"T_e01a64b6_f39d_11ea_9d93_105bad631845row3_col1\" class=\"data row3 col1\" >$3.01</td>\n",
       "                        <td id=\"T_e01a64b6_f39d_11ea_9d93_105bad631845row3_col2\" class=\"data row3 col2\" >$6.02</td>\n",
       "            </tr>\n",
       "            <tr>\n",
       "                        <th id=\"T_e01a64b6_f39d_11ea_9d93_105bad631845level0_row4\" class=\"row_heading level0 row4\" >Yathecal82</th>\n",
       "                        <td id=\"T_e01a64b6_f39d_11ea_9d93_105bad631845row4_col0\" class=\"data row4 col0\" >3</td>\n",
       "                        <td id=\"T_e01a64b6_f39d_11ea_9d93_105bad631845row4_col1\" class=\"data row4 col1\" >$2.07</td>\n",
       "                        <td id=\"T_e01a64b6_f39d_11ea_9d93_105bad631845row4_col2\" class=\"data row4 col2\" >$6.22</td>\n",
       "            </tr>\n",
       "    </tbody></table>"
      ],
      "text/plain": [
       "<pandas.io.formats.style.Styler at 0x1734c077278>"
      ]
     },
     "execution_count": 9,
     "metadata": {},
     "output_type": "execute_result"
    }
   ],
   "source": [
    "# Group by players' screenName\n",
    "top_spenders = purchase_df.groupby([\"SN\"])\n",
    "\n",
    "# Calculate purchase count, average purchase price per spender,purchage total\n",
    "spenders_count = top_spenders[\"Item ID\"].count()\n",
    "spenders_price = top_spenders[\"Price\"].mean()\n",
    "spenders_total = top_spenders['Price'].sum()\n",
    "\n",
    "# Make dataframe summary of purchases by gender & reset index\n",
    "top_spenders_df = pd.DataFrame({\"Purchase Count\": spenders_count, \n",
    "                              \"Average Purchase Price\": spenders_price, \n",
    "                              \"Total Purchage Value\": spenders_total})\n",
    "top_spenders_df.reset_index()\n",
    "top_spenders_df.sort_values(by=\"SN\", ascending=False).head().style.format({\"Average Purchase Price\":\"${:0,.2f}\", \n",
    "                                                                           \"Total Purchage Value\":\"${:0,.2f}\"})"
   ]
  },
  {
   "cell_type": "markdown",
   "metadata": {},
   "source": [
    "## Most Popular Items"
   ]
  },
  {
   "cell_type": "markdown",
   "metadata": {},
   "source": [
    "* Retrieve the Item ID, Item Name, and Item Price columns\n",
    "\n",
    "\n",
    "* Group by Item ID and Item Name. Perform calculations to obtain purchase count, item price, and total purchase value\n",
    "\n",
    "\n",
    "* Create a summary data frame to hold the results\n",
    "\n",
    "\n",
    "* Sort the purchase count column in descending order\n",
    "\n",
    "\n",
    "* Optional: give the displayed data cleaner formatting\n",
    "\n",
    "\n",
    "* Display a preview of the summary data frame\n",
    "\n"
   ]
  },
  {
   "cell_type": "code",
   "execution_count": 10,
   "metadata": {},
   "outputs": [
    {
     "data": {
      "text/html": [
       "<style  type=\"text/css\" >\n",
       "</style><table id=\"T_18f04a48_f39e_11ea_87d8_105bad631845\" ><thead>    <tr>        <th class=\"blank\" ></th>        <th class=\"blank level0\" ></th>        <th class=\"col_heading level0 col0\" >Purchase Count</th>        <th class=\"col_heading level0 col1\" >Average Purchase Price</th>        <th class=\"col_heading level0 col2\" >Total Purchage Value</th>    </tr>    <tr>        <th class=\"index_name level0\" >Item ID</th>        <th class=\"index_name level1\" >Item Name</th>        <th class=\"blank\" ></th>        <th class=\"blank\" ></th>        <th class=\"blank\" ></th>    </tr></thead><tbody>\n",
       "                <tr>\n",
       "                        <th id=\"T_18f04a48_f39e_11ea_87d8_105bad631845level0_row0\" class=\"row_heading level0 row0\" >178</th>\n",
       "                        <th id=\"T_18f04a48_f39e_11ea_87d8_105bad631845level1_row0\" class=\"row_heading level1 row0\" >Oathbreaker, Last Hope of the Breaking Storm</th>\n",
       "                        <td id=\"T_18f04a48_f39e_11ea_87d8_105bad631845row0_col0\" class=\"data row0 col0\" >12</td>\n",
       "                        <td id=\"T_18f04a48_f39e_11ea_87d8_105bad631845row0_col1\" class=\"data row0 col1\" >$4.23</td>\n",
       "                        <td id=\"T_18f04a48_f39e_11ea_87d8_105bad631845row0_col2\" class=\"data row0 col2\" >$50.76</td>\n",
       "            </tr>\n",
       "            <tr>\n",
       "                        <th id=\"T_18f04a48_f39e_11ea_87d8_105bad631845level0_row1\" class=\"row_heading level0 row1\" >145</th>\n",
       "                        <th id=\"T_18f04a48_f39e_11ea_87d8_105bad631845level1_row1\" class=\"row_heading level1 row1\" >Fiery Glass Crusader</th>\n",
       "                        <td id=\"T_18f04a48_f39e_11ea_87d8_105bad631845row1_col0\" class=\"data row1 col0\" >9</td>\n",
       "                        <td id=\"T_18f04a48_f39e_11ea_87d8_105bad631845row1_col1\" class=\"data row1 col1\" >$4.58</td>\n",
       "                        <td id=\"T_18f04a48_f39e_11ea_87d8_105bad631845row1_col2\" class=\"data row1 col2\" >$41.22</td>\n",
       "            </tr>\n",
       "            <tr>\n",
       "                        <th id=\"T_18f04a48_f39e_11ea_87d8_105bad631845level0_row2\" class=\"row_heading level0 row2\" >108</th>\n",
       "                        <th id=\"T_18f04a48_f39e_11ea_87d8_105bad631845level1_row2\" class=\"row_heading level1 row2\" >Extraction, Quickblade Of Trembling Hands</th>\n",
       "                        <td id=\"T_18f04a48_f39e_11ea_87d8_105bad631845row2_col0\" class=\"data row2 col0\" >9</td>\n",
       "                        <td id=\"T_18f04a48_f39e_11ea_87d8_105bad631845row2_col1\" class=\"data row2 col1\" >$3.53</td>\n",
       "                        <td id=\"T_18f04a48_f39e_11ea_87d8_105bad631845row2_col2\" class=\"data row2 col2\" >$31.77</td>\n",
       "            </tr>\n",
       "            <tr>\n",
       "                        <th id=\"T_18f04a48_f39e_11ea_87d8_105bad631845level0_row3\" class=\"row_heading level0 row3\" >82</th>\n",
       "                        <th id=\"T_18f04a48_f39e_11ea_87d8_105bad631845level1_row3\" class=\"row_heading level1 row3\" >Nirvana</th>\n",
       "                        <td id=\"T_18f04a48_f39e_11ea_87d8_105bad631845row3_col0\" class=\"data row3 col0\" >9</td>\n",
       "                        <td id=\"T_18f04a48_f39e_11ea_87d8_105bad631845row3_col1\" class=\"data row3 col1\" >$4.90</td>\n",
       "                        <td id=\"T_18f04a48_f39e_11ea_87d8_105bad631845row3_col2\" class=\"data row3 col2\" >$44.10</td>\n",
       "            </tr>\n",
       "            <tr>\n",
       "                        <th id=\"T_18f04a48_f39e_11ea_87d8_105bad631845level0_row4\" class=\"row_heading level0 row4\" >19</th>\n",
       "                        <th id=\"T_18f04a48_f39e_11ea_87d8_105bad631845level1_row4\" class=\"row_heading level1 row4\" >Pursuit, Cudgel of Necromancy</th>\n",
       "                        <td id=\"T_18f04a48_f39e_11ea_87d8_105bad631845row4_col0\" class=\"data row4 col0\" >8</td>\n",
       "                        <td id=\"T_18f04a48_f39e_11ea_87d8_105bad631845row4_col1\" class=\"data row4 col1\" >$1.02</td>\n",
       "                        <td id=\"T_18f04a48_f39e_11ea_87d8_105bad631845row4_col2\" class=\"data row4 col2\" >$8.16</td>\n",
       "            </tr>\n",
       "    </tbody></table>"
      ],
      "text/plain": [
       "<pandas.io.formats.style.Styler at 0x1734ce61748>"
      ]
     },
     "execution_count": 10,
     "metadata": {},
     "output_type": "execute_result"
    }
   ],
   "source": [
    "# Retrieve the Item ID, Item Name, and Item Price columns\n",
    "popular = purchase_df[[\"Item ID\", \"Item Name\", \"Price\"]]\n",
    "popular_group = popular.groupby([\"Item ID\", \"Item Name\"])\n",
    "\n",
    "popular_count = popular_group[\"Price\"].count()\n",
    "popular_price = popular_group[\"Price\"].mean()\n",
    "popular_total = popular_group[\"Price\"].sum()\n",
    "\n",
    "# Make dataframe summary of purchases by gender & reset index\n",
    "popular_df = pd.DataFrame({\"Purchase Count\": popular_count, \n",
    "                              \"Average Purchase Price\": popular_price, \n",
    "                              \"Total Purchage Value\": popular_total})\n",
    "popular_df.reset_index()\n",
    "popular_df.sort_values(by=\"Purchase Count\", ascending=False).head().style.format({\"Average Purchase Price\":\"${:0,.2f}\", \n",
    "                                                                                  \"Total Purchage Value\":\"${:0,.2f}\"})"
   ]
  },
  {
   "cell_type": "markdown",
   "metadata": {},
   "source": [
    "## Most Profitable Items"
   ]
  },
  {
   "cell_type": "markdown",
   "metadata": {},
   "source": [
    "* Sort the above table by total purchase value in descending order\n",
    "\n",
    "\n",
    "* Optional: give the displayed data cleaner formatting\n",
    "\n",
    "\n",
    "* Display a preview of the data frame\n",
    "\n"
   ]
  },
  {
   "cell_type": "code",
   "execution_count": 12,
   "metadata": {
    "scrolled": true
   },
   "outputs": [
    {
     "data": {
      "text/html": [
       "<style  type=\"text/css\" >\n",
       "</style><table id=\"T_5be44d80_f39e_11ea_bce1_105bad631845\" ><thead>    <tr>        <th class=\"blank\" ></th>        <th class=\"blank level0\" ></th>        <th class=\"col_heading level0 col0\" >Purchase Count</th>        <th class=\"col_heading level0 col1\" >Average Purchase Price</th>        <th class=\"col_heading level0 col2\" >Total Purchage Value</th>    </tr>    <tr>        <th class=\"index_name level0\" >Item ID</th>        <th class=\"index_name level1\" >Item Name</th>        <th class=\"blank\" ></th>        <th class=\"blank\" ></th>        <th class=\"blank\" ></th>    </tr></thead><tbody>\n",
       "                <tr>\n",
       "                        <th id=\"T_5be44d80_f39e_11ea_bce1_105bad631845level0_row0\" class=\"row_heading level0 row0\" >178</th>\n",
       "                        <th id=\"T_5be44d80_f39e_11ea_bce1_105bad631845level1_row0\" class=\"row_heading level1 row0\" >Oathbreaker, Last Hope of the Breaking Storm</th>\n",
       "                        <td id=\"T_5be44d80_f39e_11ea_bce1_105bad631845row0_col0\" class=\"data row0 col0\" >12</td>\n",
       "                        <td id=\"T_5be44d80_f39e_11ea_bce1_105bad631845row0_col1\" class=\"data row0 col1\" >$4.23</td>\n",
       "                        <td id=\"T_5be44d80_f39e_11ea_bce1_105bad631845row0_col2\" class=\"data row0 col2\" >$50.76</td>\n",
       "            </tr>\n",
       "            <tr>\n",
       "                        <th id=\"T_5be44d80_f39e_11ea_bce1_105bad631845level0_row1\" class=\"row_heading level0 row1\" >82</th>\n",
       "                        <th id=\"T_5be44d80_f39e_11ea_bce1_105bad631845level1_row1\" class=\"row_heading level1 row1\" >Nirvana</th>\n",
       "                        <td id=\"T_5be44d80_f39e_11ea_bce1_105bad631845row1_col0\" class=\"data row1 col0\" >9</td>\n",
       "                        <td id=\"T_5be44d80_f39e_11ea_bce1_105bad631845row1_col1\" class=\"data row1 col1\" >$4.90</td>\n",
       "                        <td id=\"T_5be44d80_f39e_11ea_bce1_105bad631845row1_col2\" class=\"data row1 col2\" >$44.10</td>\n",
       "            </tr>\n",
       "            <tr>\n",
       "                        <th id=\"T_5be44d80_f39e_11ea_bce1_105bad631845level0_row2\" class=\"row_heading level0 row2\" >145</th>\n",
       "                        <th id=\"T_5be44d80_f39e_11ea_bce1_105bad631845level1_row2\" class=\"row_heading level1 row2\" >Fiery Glass Crusader</th>\n",
       "                        <td id=\"T_5be44d80_f39e_11ea_bce1_105bad631845row2_col0\" class=\"data row2 col0\" >9</td>\n",
       "                        <td id=\"T_5be44d80_f39e_11ea_bce1_105bad631845row2_col1\" class=\"data row2 col1\" >$4.58</td>\n",
       "                        <td id=\"T_5be44d80_f39e_11ea_bce1_105bad631845row2_col2\" class=\"data row2 col2\" >$41.22</td>\n",
       "            </tr>\n",
       "            <tr>\n",
       "                        <th id=\"T_5be44d80_f39e_11ea_bce1_105bad631845level0_row3\" class=\"row_heading level0 row3\" >92</th>\n",
       "                        <th id=\"T_5be44d80_f39e_11ea_bce1_105bad631845level1_row3\" class=\"row_heading level1 row3\" >Final Critic</th>\n",
       "                        <td id=\"T_5be44d80_f39e_11ea_bce1_105bad631845row3_col0\" class=\"data row3 col0\" >8</td>\n",
       "                        <td id=\"T_5be44d80_f39e_11ea_bce1_105bad631845row3_col1\" class=\"data row3 col1\" >$4.88</td>\n",
       "                        <td id=\"T_5be44d80_f39e_11ea_bce1_105bad631845row3_col2\" class=\"data row3 col2\" >$39.04</td>\n",
       "            </tr>\n",
       "            <tr>\n",
       "                        <th id=\"T_5be44d80_f39e_11ea_bce1_105bad631845level0_row4\" class=\"row_heading level0 row4\" >103</th>\n",
       "                        <th id=\"T_5be44d80_f39e_11ea_bce1_105bad631845level1_row4\" class=\"row_heading level1 row4\" >Singed Scalpel</th>\n",
       "                        <td id=\"T_5be44d80_f39e_11ea_bce1_105bad631845row4_col0\" class=\"data row4 col0\" >8</td>\n",
       "                        <td id=\"T_5be44d80_f39e_11ea_bce1_105bad631845row4_col1\" class=\"data row4 col1\" >$4.35</td>\n",
       "                        <td id=\"T_5be44d80_f39e_11ea_bce1_105bad631845row4_col2\" class=\"data row4 col2\" >$34.80</td>\n",
       "            </tr>\n",
       "    </tbody></table>"
      ],
      "text/plain": [
       "<pandas.io.formats.style.Styler at 0x1734ce3bc88>"
      ]
     },
     "execution_count": 12,
     "metadata": {},
     "output_type": "execute_result"
    }
   ],
   "source": [
    "popular_df.sort_values(by=\"Total Purchage Value\", ascending=False).head().style.format({\n",
    "    \"Average Purchase Price\":\"${:0,.2f}\", \"Total Purchage Value\":\"${:0,.2f}\"})"
   ]
  }
 ],
 "metadata": {
  "anaconda-cloud": {},
  "kernel_info": {
   "name": "python3"
  },
  "kernelspec": {
   "display_name": "Python 3",
   "language": "python",
   "name": "python3"
  },
  "language_info": {
   "codemirror_mode": {
    "name": "ipython",
    "version": 3
   },
   "file_extension": ".py",
   "mimetype": "text/x-python",
   "name": "python",
   "nbconvert_exporter": "python",
   "pygments_lexer": "ipython3",
   "version": "3.6.10"
  },
  "latex_envs": {
   "LaTeX_envs_menu_present": true,
   "autoclose": false,
   "autocomplete": true,
   "bibliofile": "biblio.bib",
   "cite_by": "apalike",
   "current_citInitial": 1,
   "eqLabelWithNumbers": true,
   "eqNumInitial": 1,
   "hotkeys": {
    "equation": "Ctrl-E",
    "itemize": "Ctrl-I"
   },
   "labels_anchors": false,
   "latex_user_defs": false,
   "report_style_numbering": false,
   "user_envs_cfg": false
  },
  "nteract": {
   "version": "0.2.0"
  }
 },
 "nbformat": 4,
 "nbformat_minor": 2
}
